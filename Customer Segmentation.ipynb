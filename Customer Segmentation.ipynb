{
 "cells": [
  {
   "cell_type": "code",
   "execution_count": 1,
   "id": "b72a9a7f",
   "metadata": {},
   "outputs": [],
   "source": [
    "import pandas as pd\n",
    "import numpy as np\n",
    "from sklearn.cluster import KMeans\n",
    "import plotly.express as px\n",
    "import plotly.graph_objects as go\n",
    "import matplotlib.pyplot as plt"
   ]
  },
  {
   "cell_type": "code",
   "execution_count": null,
   "id": "b07131df",
   "metadata": {},
   "outputs": [],
   "source": [
    "customersdata = pd.read_csv(\"customers-data.csv\")"
   ]
  },
  {
   "cell_type": "code",
   "execution_count": null,
   "id": "eb5ca470",
   "metadata": {},
   "outputs": [],
   "source": [
    "customersdata.head()"
   ]
  },
  {
   "cell_type": "code",
   "execution_count": null,
   "id": "f5c53d84",
   "metadata": {},
   "outputs": [],
   "source": [
    "# Define K-means model"
   ]
  },
  {
   "cell_type": "code",
   "execution_count": null,
   "id": "85860829",
   "metadata": {},
   "outputs": [],
   "source": [
    "kmeans_model = KMeans(init='k-means++',  max_iter=400, random_state=42)"
   ]
  },
  {
   "cell_type": "code",
   "execution_count": null,
   "id": "c25b0a15",
   "metadata": {},
   "outputs": [],
   "source": [
    "# Train the model"
   ]
  },
  {
   "cell_type": "code",
   "execution_count": 2,
   "id": "5e3d2c92",
   "metadata": {},
   "outputs": [
    {
     "ename": "NameError",
     "evalue": "name 'kmeans_model' is not defined",
     "output_type": "error",
     "traceback": [
      "\u001b[1;31m---------------------------------------------------------------------------\u001b[0m",
      "\u001b[1;31mNameError\u001b[0m                                 Traceback (most recent call last)",
      "\u001b[1;32m~\\AppData\\Local\\Temp\\ipykernel_13460\\1383312423.py\u001b[0m in \u001b[0;36m<module>\u001b[1;34m\u001b[0m\n\u001b[1;32m----> 1\u001b[1;33m kmeans_model.fit(customersdata[['products_purchased','complains',\n\u001b[0m\u001b[0;32m      2\u001b[0m 'money_spent']])\n",
      "\u001b[1;31mNameError\u001b[0m: name 'kmeans_model' is not defined"
     ]
    }
   ],
   "source": [
    "kmeans_model.fit(customersdata[['products_purchased','complains',\n",
    "'money_spent']])"
   ]
  },
  {
   "cell_type": "code",
   "execution_count": null,
   "id": "c8d388c9",
   "metadata": {},
   "outputs": [],
   "source": [
    "# Create the K means model for different values of K"
   ]
  },
  {
   "cell_type": "code",
   "execution_count": null,
   "id": "706b67b2",
   "metadata": {},
   "outputs": [],
   "source": [
    "def try_different_clusters(K, data):\n",
    "\n",
    "    cluster_values = list(range(1, K+1))\n",
    "    inertias=[]\n",
    "\n",
    "    for c in cluster_values:\n",
    "        model = KMeans(n_clusters = c,init='k-means++',max_iter=400,random_state=42)\n",
    "        model.fit(data)\n",
    "        inertias.append(model.inertia_)\n",
    "\n",
    "    return inertias"
   ]
  },
  {
   "cell_type": "code",
   "execution_count": null,
   "id": "eefffced",
   "metadata": {},
   "outputs": [],
   "source": [
    "# Find output for k values between 1 to 12 "
   ]
  },
  {
   "cell_type": "code",
   "execution_count": null,
   "id": "5cb443d4",
   "metadata": {},
   "outputs": [],
   "source": [
    "outputs = try_different_clusters(12, customersdata[['products_purchased','complains','money_spent']])\n",
    "distances = pd.DataFrame({\"clusters\": list(range(1, 13)),\"sum of squared distances\": outputs})"
   ]
  },
  {
   "cell_type": "code",
   "execution_count": null,
   "id": "b5b05310",
   "metadata": {},
   "outputs": [],
   "source": [
    "# Finding optimal number of clusters k\n",
    "figure = go.Figure()\n",
    "figure.add_trace(go.Scatter(x=distances[\"clusters\"], y=distances[\"sum of squared distances\"]))\n",
    "\n",
    "figure.update_layout(xaxis = dict(tick0 = 1,dtick = 1,tickmode = 'linear'),\n",
    "                  xaxis_title=\"Number of clusters\",\n",
    "                  yaxis_title=\"Sum of squared distances\",\n",
    "                  title_text=\"Finding optimal number of clusters using elbow method\")\n",
    "figure.show()"
   ]
  },
  {
   "cell_type": "code",
   "execution_count": null,
   "id": "2b7c624b",
   "metadata": {},
   "outputs": [],
   "source": [
    "# Re-Train K means model with k=5\n",
    "kmeans_model_new = KMeans(n_clusters = 5,init='k-means++',max_iter=400,random_state=42)\n",
    "\n",
    "kmeans_model_new.fit_predict(customersdata[['products_purchased','complains','money_spent']])"
   ]
  },
  {
   "cell_type": "code",
   "execution_count": null,
   "id": "fe6cb8d5",
   "metadata": {},
   "outputs": [],
   "source": [
    "# Create data arrays\n",
    "cluster_centers = kmeans_model_new.cluster_centers_\n",
    "data = np.expm1(cluster_centers)\n",
    "points = np.append(data, cluster_centers, axis=1)\n",
    "points"
   ]
  },
  {
   "cell_type": "code",
   "execution_count": null,
   "id": "629b4f7a",
   "metadata": {},
   "outputs": [],
   "source": [
    "# Add \"clusters\" to customers data\n",
    "points = np.append(points, [[0], [1], [2], [3], [4]], axis=1)\n",
    "customersdata[\"clusters\"] = kmeans_model_new.labels_"
   ]
  },
  {
   "cell_type": "code",
   "execution_count": null,
   "id": "0bc675bb",
   "metadata": {},
   "outputs": [],
   "source": [
    "customersdata.head()"
   ]
  },
  {
   "cell_type": "code",
   "execution_count": null,
   "id": "acca3cb9",
   "metadata": {},
   "outputs": [],
   "source": [
    "# visualize clusters\n",
    "figure = px.scatter_3d(customersdata,\n",
    "                    color='clusters',\n",
    "                    x=\"products_purchased\",\n",
    "                    y=\"complains\",\n",
    "                    z=\"money_spent\",\n",
    "                    category_orders = {\"clusters\": [\"0\", \"1\", \"2\", \"3\", \"4\"]}\n",
    "                    )\n",
    "figure.update_layout()\n",
    "figure.show()"
   ]
  }
 ],
 "metadata": {
  "kernelspec": {
   "display_name": "Python 3 (ipykernel)",
   "language": "python",
   "name": "python3"
  },
  "language_info": {
   "codemirror_mode": {
    "name": "ipython",
    "version": 3
   },
   "file_extension": ".py",
   "mimetype": "text/x-python",
   "name": "python",
   "nbconvert_exporter": "python",
   "pygments_lexer": "ipython3",
   "version": "3.9.13"
  }
 },
 "nbformat": 4,
 "nbformat_minor": 5
}
